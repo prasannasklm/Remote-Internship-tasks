{
  "nbformat": 4,
  "nbformat_minor": 0,
  "metadata": {
    "colab": {
      "name": "Copy of Week-4 Assignment.ipynb",
      "provenance": [],
      "collapsed_sections": []
    },
    "kernelspec": {
      "name": "python3",
      "display_name": "Python 3"
    },
    "language_info": {
      "name": "python"
    }
  },
  "cells": [
    {
      "cell_type": "markdown",
      "source": [
        "# <center>Assignment 4</center>"
      ],
      "metadata": {
        "id": "AVrXVpn1J3qr"
      }
    },
    {
      "cell_type": "markdown",
      "source": [
        "### Instructions:"
      ],
      "metadata": {
        "id": "ei7tEgKgJ7gn"
      }
    },
    {
      "cell_type": "markdown",
      "source": [
        "1. Solve below assignment problems in the colab notebook only and submit the same on or before the deadline.\n",
        "* Naming convention for the colab notebook file should be email_assignment_4.ipynb\n",
        "* Do not copy & paste the code from online. If we do so, you will be rewarded with 0 score for the respective question.\n",
        "* If you have any queries, please reach out the assignments channel in Microsoft Teams.\n",
        "* You can refer to online resources for solving these questions but don’t copy the code."
      ],
      "metadata": {
        "id": "94yf3tbZJ8gO"
      }
    },
    {
      "cell_type": "markdown",
      "source": [
        "Problem-1"
      ],
      "metadata": {
        "id": "rEcjLiC5cG8Q"
      }
    },
    {
      "cell_type": "code",
      "source": [
        "def Minimum_edit(source, target,l1,l2):\n",
        "  '''\n",
        "    Write a code to implement the minimum edit ditance code to find out the minimum edit ditance between given two strings.\n",
        "    INPUT:\n",
        "      source: the input string1\n",
        "      target: the input string2\n",
        "    OUTPUT:\n",
        "      return a minimum edit distance between the given two words\n",
        "    Example:\n",
        "      INPUT:\n",
        "        source: \"Apple\"\n",
        "        target: \"Apples\"\n",
        "      OUTPUT:\n",
        "        minimum edit distance: 1\n",
        "\n",
        "    Note: Replace the none with the output\n",
        "  '''\n",
        "\n",
        "  ### Write your code here ###\n",
        " \n",
        "  if(l1==0):\n",
        "    return l2\n",
        "  if(l2==0):\n",
        "    return l1\n",
        "  if(source[l1-1]==target[l2-1]):\n",
        "    return Minimum_edit(source,target,l1-1,l2-1)\n",
        "  return 1+min(Minimum_edit(source,target,l1,l2-1),Minimum_edit(source,target,l1-1,l2),Minimum_edit(source,target,l1-1,l2-1))\n",
        "  ### Code block end here ###\n",
        "\n",
        "  return None\n",
        "s1=\"hello\"\n",
        "s2=\"hall\"\n",
        "l1=len(s1)\n",
        "l2=len(s2)\n",
        "print(\"minimum edit distance:\",Minimum_edit(s1,s2,l1,l2))"
      ],
      "metadata": {
        "id": "Wdqt1sW5dGvb",
        "colab": {
          "base_uri": "https://localhost:8080/"
        },
        "outputId": "753bb9e9-c455-4257-ac6d-785b0081aa03"
      },
      "execution_count": null,
      "outputs": [
        {
          "output_type": "stream",
          "name": "stdout",
          "text": [
            "minimum edit distance: 2\n"
          ]
        }
      ]
    },
    {
      "cell_type": "markdown",
      "source": [
        "Problem-2"
      ],
      "metadata": {
        "id": "Kj18tqm9dMtq"
      }
    },
    {
      "cell_type": "code",
      "source": [
        "import re\n",
        "import nltk\n",
        "def POS_tagging(paragraph):\n",
        "  '''\n",
        "    Write a code to implement the pos tagging on a given paragraph. Remove the puntuations from the given string and apply the pos tagging.\n",
        "    For more details check the example below.\n",
        "    INPUT:\n",
        "      paragraph: input sentence to apply the pos tagging\n",
        "    OUTPUT:\n",
        "      List of tokens with pos tagging\n",
        "    Example:\n",
        "      INPUT:\n",
        "        paragraph: \"Mumbai Indians won the Dream11 IPL. India off to Australia for the upcoming series.\n",
        "      OUTPUT:\n",
        "        pos tags: [('Mumbai', 'NNP'),('Indians', 'NNP'),('won', 'VBD'),('the', 'DT'),('Dream11', 'NNP'),('IPL', 'NNP'),('India', 'NNP'),('off', 'IN'),('to', 'TO'),\n",
        "        ('Australia', 'NNP'),('for', 'IN'),('the', 'DT'),('upcoming', 'JJ'),('series', 'NN')]\n",
        "\n",
        "    Note: Replace the none with the output\n",
        "  '''\n",
        "\n",
        "  ### Write your code here ###\n",
        "  p=re.compile(r'\\w+')\n",
        "  w=p.findall(paragraph)\n",
        "  #print(w)\n",
        "  return nltk.pos_tag(w)\n",
        "  ### Code block end here ###\n",
        "\n",
        "  return None\n",
        "print(\"pos tags:\",POS_tagging(\"Java is a high-level, class-based, object-oriented programming language that is designed to have as few implementation dependencies as possible.\"))"
      ],
      "metadata": {
        "id": "nNcM3ze1dJtR",
        "colab": {
          "base_uri": "https://localhost:8080/"
        },
        "outputId": "0e07647c-1d56-4629-c2bb-9ca3aa951235"
      },
      "execution_count": 10,
      "outputs": [
        {
          "output_type": "stream",
          "name": "stdout",
          "text": [
            "pos tags: [('Java', 'NNP'), ('is', 'VBZ'), ('a', 'DT'), ('high', 'JJ'), ('level', 'NN'), ('class', 'NN'), ('based', 'VBN'), ('object', 'RB'), ('oriented', 'VBN'), ('programming', 'NN'), ('language', 'NN'), ('that', 'WDT'), ('is', 'VBZ'), ('designed', 'VBN'), ('to', 'TO'), ('have', 'VB'), ('as', 'IN'), ('few', 'JJ'), ('implementation', 'NN'), ('dependencies', 'NNS'), ('as', 'IN'), ('possible', 'JJ')]\n"
          ]
        }
      ]
    }
  ]
}