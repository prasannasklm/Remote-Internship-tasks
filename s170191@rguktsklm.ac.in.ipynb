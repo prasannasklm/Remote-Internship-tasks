{
  "nbformat": 4,
  "nbformat_minor": 0,
  "metadata": {
    "colab": {
      "name": "Copy of Week-1 Assignment.ipynb",
      "provenance": [],
      "collapsed_sections": []
    },
    "kernelspec": {
      "name": "python3",
      "display_name": "Python 3"
    },
    "language_info": {
      "name": "python"
    }
  },
  "cells": [
    {
      "cell_type": "markdown",
      "source": [
        "# <center>Assignment 1</center>"
      ],
      "metadata": {
        "id": "ddIqnAGjdUzG"
      }
    },
    {
      "cell_type": "markdown",
      "source": [
        "## Instructions:"
      ],
      "metadata": {
        "id": "yPRpQr3UdaBO"
      }
    },
    {
      "cell_type": "markdown",
      "source": [
        "1. Solve below assignment problems in the colab notebook only and submit the same on or before the deadline.\n",
        "* Naming convention for the colab notebook file should be email_assignment_1.ipynb\n",
        "* Do not copy & paste the code from online. If we do so, you will be rewarded with 0 score for the respective question.\n",
        "* If you have any queries, please reach out the assignments channel in Microsoft Teams.\n",
        "* You can refer to online resources for solving these questions but don’t copy the code."
      ],
      "metadata": {
        "id": "tNF2LbSVeUOz"
      }
    },
    {
      "cell_type": "markdown",
      "source": [
        "#### Problem No: 1"
      ],
      "metadata": {
        "id": "xVtuNwDJea2O"
      }
    },
    {
      "cell_type": "code",
      "source": [
        "def str2list(str1):\n",
        "    # write code to add each character in the string into a list format\n",
        "    # don't use any inbuilt methods\n",
        "    # input:\n",
        "        # str1 : input string\n",
        "    # output:\n",
        "        # return list (Replace None with output in return statement)\n",
        "        \n",
        "    ### Write your code here\n",
        "    l=[]\n",
        "    for i in str1:\n",
        "        l+=i\n",
        "     \n",
        "    return l\n",
        "print(str2list(\"helloworld\"))\n",
        "    ### End of code\n",
        "   "
      ],
      "metadata": {
        "id": "5p_dnXD5eU9E",
        "colab": {
          "base_uri": "https://localhost:8080/"
        },
        "outputId": "cf2cd800-5994-4200-8983-371732a592d6"
      },
      "execution_count": null,
      "outputs": [
        {
          "output_type": "stream",
          "name": "stdout",
          "text": [
            "['h', 'e', 'l', 'l', 'o', 'w', 'o', 'r', 'l', 'd']\n"
          ]
        }
      ]
    },
    {
      "cell_type": "markdown",
      "source": [
        "#### Problem No: 2"
      ],
      "metadata": {
        "id": "0oHVbFNneiRV"
      }
    },
    {
      "cell_type": "code",
      "source": [
        "def listcombine(l1, l2):\n",
        "    # write code to combine two lists into one 2D list\n",
        "    # don't use any inbuilt methods\n",
        "    # input:\n",
        "        # list1 : input list1\n",
        "        # list2 : input list2\n",
        "    # output:\n",
        "        # return the combined list (Replace None with output in return statement)\n",
        "        \n",
        "    ### Write your code here\n",
        "    arr=[l1,l2]\n",
        "    for i in range(len(arr)):\n",
        "      for j in range(len(arr[i])):\n",
        "        print(arr[i][j],end=' ')\n",
        "      print(\"\\n\")\n",
        "listcombine([1,2,3,4,5],[6,7,8,9,0])\n",
        "    ### End of code\n",
        "    "
      ],
      "metadata": {
        "id": "ZoINwz7-ediZ",
        "colab": {
          "base_uri": "https://localhost:8080/"
        },
        "outputId": "1c2690e5-af4f-4696-d631-d7be897d94f1"
      },
      "execution_count": 5,
      "outputs": [
        {
          "output_type": "stream",
          "name": "stdout",
          "text": [
            "1 2 3 4 5 \n",
            "\n",
            "6 7 8 9 0 \n",
            "\n"
          ]
        }
      ]
    },
    {
      "cell_type": "markdown",
      "source": [
        "#### Problem No: 3"
      ],
      "metadata": {
        "id": "ENE32DR4eo9u"
      }
    },
    {
      "cell_type": "code",
      "source": [
        "def reverselist(list1):\n",
        "    # write code to reverse the elements in a list\n",
        "    # don't use any inbuilt methods\n",
        "    # input:\n",
        "        # list1 : input list1\n",
        "    # output:\n",
        "        # retun the reversed list (Replace None with output in return statement)\n",
        "        \n",
        "    ### Write your code here\n",
        "    length=0\n",
        "    for i in list1:\n",
        "      length=length+1\n",
        "    print(\"length of list:\",length)\n",
        "    l1=[]\n",
        "    while(length>0):\n",
        "      l1+=list1[length-1]\n",
        "      length=length-1\n",
        "    return l1\n",
        "print(reverselist(['1','2','5','0']))\n",
        "    ### End of code\n",
        "        \n",
        "    "
      ],
      "metadata": {
        "id": "P3WM2ACjelPK",
        "colab": {
          "base_uri": "https://localhost:8080/"
        },
        "outputId": "fc423264-cf44-465c-b29c-ed270c28df79"
      },
      "execution_count": null,
      "outputs": [
        {
          "output_type": "stream",
          "name": "stdout",
          "text": [
            "length of list: 4\n",
            "['0', '5', '2', '1']\n"
          ]
        }
      ]
    },
    {
      "cell_type": "markdown",
      "source": [
        "#### Problem No: 4"
      ],
      "metadata": {
        "id": "nBeJfgZeev82"
      }
    },
    {
      "cell_type": "code",
      "source": [
        "def createdict(keys, values):\n",
        "    # write code to create a dictionary with keys & values lists\n",
        "    # input:\n",
        "        # keys : input list of keys\n",
        "        # values : input list of values\n",
        "    # output:\n",
        "        # return the dictionary (Replace None with output in return statement)\n",
        "        \n",
        "    ### Write your code here\n",
        "     dictionary=dict(zip(keys,values))\n",
        "     return dictionary\n",
        "print(createdict(['key1','key2','key3'],['value1','value2','value3']))\n",
        "    \n",
        "    ### End of code\n",
        "    \n",
        "   "
      ],
      "metadata": {
        "id": "gHiEv4cSeroi",
        "colab": {
          "base_uri": "https://localhost:8080/"
        },
        "outputId": "57475c58-3f80-4c4e-f51d-dc0b575efc2d"
      },
      "execution_count": null,
      "outputs": [
        {
          "output_type": "stream",
          "name": "stdout",
          "text": [
            "{'key1': 'value1', 'key2': 'value2', 'key3': 'value3'}\n"
          ]
        }
      ]
    },
    {
      "cell_type": "markdown",
      "source": [
        "#### Problem No: 5"
      ],
      "metadata": {
        "id": "mqpmjLUAezk_"
      }
    },
    {
      "cell_type": "code",
      "source": [
        "def string_occurence(str1, sub_str):\n",
        "    # Check if a string contains a specific substring given as input.\n",
        "    # If the string search is successful then return the number of occurrences otherwise 0.\n",
        "    # input:\n",
        "        # str1: input string\n",
        "        # stb_str: input substring\n",
        "    # output: \n",
        "        # number of occurences of substring in string (Replace None with output in return statement)\n",
        "         \n",
        "    ### Write your code here\n",
        "    if(str1.find(sub_str)==1):\n",
        "      c=str1.count(sub_str)\n",
        "      return c\n",
        "    else:\n",
        "       return 0\n",
        "s=\"prasannaprasanna\"\n",
        "ss=\"ras\"\n",
        "print(string_occurence(s,ss))\n",
        "    ### End of code\n",
        "    "
      ],
      "metadata": {
        "id": "6nV4i4UneyNX",
        "colab": {
          "base_uri": "https://localhost:8080/"
        },
        "outputId": "e772dcf1-d03d-491e-f099-1b076c8b4980"
      },
      "execution_count": 6,
      "outputs": [
        {
          "output_type": "stream",
          "name": "stdout",
          "text": [
            "2\n"
          ]
        }
      ]
    },
    {
      "cell_type": "markdown",
      "source": [
        "#### Problem No: 6"
      ],
      "metadata": {
        "id": "c4cn0DcFe_G6"
      }
    },
    {
      "cell_type": "code",
      "source": [
        "def perfectnumbercheck(num):\n",
        "    # write code to check given number is perfect or not\n",
        "    # Hint: return True or False\n",
        "    # input:\n",
        "        # num : input number\n",
        "    # output:\n",
        "        # return boolean value (Replace None with output in return statement)\n",
        "         \n",
        "    ### Write your code here\n",
        "    \n",
        "    s=0\n",
        "    for i in range(1,num):\n",
        "       if(num%i==0):\n",
        "         s=s+i\n",
        "    if(s==num):\n",
        "      return True\n",
        "    else:\n",
        "      return False\n",
        "\n",
        "n=int(input(\"enter a number:\"))\n",
        "print(perfectnumbercheck(n))\n",
        "    ### End of code\n",
        "    \n"
      ],
      "metadata": {
        "id": "OL6F-2Ade31H",
        "colab": {
          "base_uri": "https://localhost:8080/"
        },
        "outputId": "9472c08c-d04e-4da1-c9b2-4776535d9014"
      },
      "execution_count": 7,
      "outputs": [
        {
          "output_type": "stream",
          "name": "stdout",
          "text": [
            "enter a number:6\n",
            "True\n"
          ]
        }
      ]
    },
    {
      "cell_type": "markdown",
      "source": [
        "#### Problem No: 7"
      ],
      "metadata": {
        "id": "Eg-f_-RRfEmf"
      }
    },
    {
      "cell_type": "code",
      "source": [
        "def passwordstrengthcheck(password):\n",
        "    # check below conditions for the given password & return True if it pass otherwise False.\n",
        "    # At least 1 small letter [a-z] and 1 capital letter [A-Z].\n",
        "    # At least 1 digit [0-9].\n",
        "    # At least 1 special character from [$#@].\n",
        "    # Minimum length 6 characters.\n",
        "    # Maximum length 16 characters.\n",
        "    # input:\n",
        "        # password: input string\n",
        "    # output:\n",
        "        # return boolean value (Replace None with output in return statement)\n",
        "         \n",
        "    ### Write your code here\n",
        "    import re\n",
        "    t=1\n",
        "    if(not(re.search('[a-z]',password))):\n",
        "      t=0\n",
        "    if(not(re.search('[A-z]',password))):\n",
        "      t=0\n",
        "    if(not(re.search('[0-9]',password))):\n",
        "      t=0\n",
        "    if(not(re.search('[$@#!]',password))):\n",
        "      t=0\n",
        "    if(len(password)<6 or len(password)>16):\n",
        "      t=0\n",
        "    if(t==1):\n",
        "      return True\n",
        "    else:\n",
        "      return False\n",
        "\n",
        "p=input(\"Enter a password:\")\n",
        "print(passwordstrengthcheck(p))\n",
        "    ### End of code\n",
        "    \n"
      ],
      "metadata": {
        "id": "ZZ8JKgj7fBOV",
        "colab": {
          "base_uri": "https://localhost:8080/"
        },
        "outputId": "8a00ee85-5e9e-49fa-8edf-84a9021ed387"
      },
      "execution_count": null,
      "outputs": [
        {
          "output_type": "stream",
          "name": "stdout",
          "text": [
            "Enter a password:prasannaA@123\n",
            "True\n"
          ]
        }
      ]
    },
    {
      "cell_type": "markdown",
      "source": [
        "#### Problem No: 8"
      ],
      "metadata": {
        "id": "RNevwOQDfMOf"
      }
    },
    {
      "cell_type": "code",
      "source": [
        "def wordfrequency(str1):\n",
        "    # Find out the frequency of words in a given string (prompted by the user) using dictionaries \n",
        "    # words frequency must be case-insensitive (upercase and lowercase words are same)\n",
        "    # Hint: return a dictionary with unique words in the string as keys and theier frequency as the values\n",
        "    # input:\n",
        "        # str1 : input str1\n",
        "    # output:\n",
        "        # retrun the dictionary (Replace None with output in return statement)\n",
        "         \n",
        "    ### Write your code here\n",
        "    dictionary={}\n",
        "    l=str1.split()\n",
        "    for i in l:\n",
        "      if i in dictionary:\n",
        "        dictionary[i] += 1\n",
        "      else:\n",
        "        dictionary[i] = 1\n",
        "    return dictionary\n",
        "\n",
        "s=input(\"enter a string:\")\n",
        "print(wordfrequency(s))\n",
        "    ### End of code\n",
        "    \n",
        "    \n",
        "    "
      ],
      "metadata": {
        "id": "vgNmSU87fJps",
        "colab": {
          "base_uri": "https://localhost:8080/"
        },
        "outputId": "5971317b-f72f-4a62-a144-dd614f054da8"
      },
      "execution_count": null,
      "outputs": [
        {
          "output_type": "stream",
          "name": "stdout",
          "text": [
            "enter a string:hello world hello\n",
            "{'hello': 2, 'world': 1}\n"
          ]
        }
      ]
    },
    {
      "cell_type": "markdown",
      "source": [
        "#### Problem No: 9"
      ],
      "metadata": {
        "id": "4bSnHr_8fSeA"
      }
    },
    {
      "cell_type": "code",
      "source": [
        "def primenumcount(list1):\n",
        "    # Write a function that can take a list of integers as function arguments and count the number of prime numbers in it (You can use inbuilt methods).\n",
        "    # If the prime number count below the len(list)/4 then return \"1\"\n",
        "    # If the prime number count between len(list)/4 and len(list)/2 then return \"2\" (boundary points included).\n",
        "    # If the prime number count above the len(list)/2 then return “3”.\n",
        "    # input:\n",
        "        # list1: input list of integers\n",
        "    # output:\n",
        "        # return count of prime (Replace None with output in return statement)\n",
        "         \n",
        "    ### Write your code here\n",
        "    c=0\n",
        "    for i in l:\n",
        "      k=int(i)\n",
        "      cou=0\n",
        "      for j in range(1,k+1):\n",
        "        if(k%j==0):\n",
        "          cou=cou+1\n",
        "      if(cou==2):\n",
        "        c=c+1\n",
        "    print(\"count of prime numbers:\",c)\n",
        "    if(c<len(l)/4):\n",
        "      return 1\n",
        "    if(c>len(l)/4 and c<len(l)/2):\n",
        "      return 2\n",
        "    if(c>len(l)/2):\n",
        "      return 3\n",
        "\n",
        "l=['1','4','5','7','9','2','3','11']\n",
        "print(primenumcount(l))\n",
        "    ### End of code\n",
        "    \n",
        "    \n",
        "   "
      ],
      "metadata": {
        "id": "BPdWR38qfOod",
        "colab": {
          "base_uri": "https://localhost:8080/"
        },
        "outputId": "b4f3ad97-e566-4b75-8a97-dd4adffcd49b"
      },
      "execution_count": null,
      "outputs": [
        {
          "output_type": "stream",
          "name": "stdout",
          "text": [
            "count of prime numbers: 5\n",
            "3\n"
          ]
        }
      ]
    },
    {
      "cell_type": "markdown",
      "source": [
        "#### Problem No: 10"
      ],
      "metadata": {
        "id": "KKzSGVSxfXuJ"
      }
    },
    {
      "cell_type": "code",
      "source": [
        "def unique_words(s,n):\n",
        "    # Write a function that can take a string and an integer as function arguments and display \n",
        "    # the unique words (words are case-insensitive) that can meet the condition i.e. word length >= given integer \n",
        "    # (Don’t use any inbuilt method for removing duplicate words).\n",
        "    \n",
        "    # input:\n",
        "        # str1 : input string\n",
        "        # length : string length\n",
        "    # output:\n",
        "        # list of unique words those meets the above condition (Replace None with output in return statement)\n",
        "         \n",
        "    ### Write your code here\n",
        "    \n",
        "  \n",
        "    p=s.lower()\n",
        "    k=p.split()\n",
        "    o=[]\n",
        "    l=[]\n",
        "    w=[]\n",
        "    x=[]\n",
        "    for i in k:\n",
        "      c=0\n",
        "      for j in k:\n",
        "        if(i==j):\n",
        "            c=c+1\n",
        "      if(c==1):\n",
        "        o+=i\n",
        "        o+=' '\n",
        "    u=''.join(o)\n",
        "    print(u)\n",
        "    m=u.split()\n",
        "    for i in m:\n",
        "      if(len(i)>=n):\n",
        "        l+=i\n",
        "        l+=' '\n",
        "    return ''.join(l)\n",
        "str1=input(\"enter a string:\")\n",
        "length=int(input(\"enter an integer:\"))\n",
        "print(unique_words(str1,length))\n",
        "    ### End of code\n",
        "    \n",
        "    \n"
      ],
      "metadata": {
        "id": "oQz0AeFYfVCU",
        "colab": {
          "base_uri": "https://localhost:8080/"
        },
        "outputId": "77327775-74d8-4131-8303-94e53153d4f2"
      },
      "execution_count": null,
      "outputs": [
        {
          "output_type": "stream",
          "name": "stdout",
          "text": [
            "enter a string:prasanna is a very good and  VERY Active\n",
            "enter an integer:4\n",
            "prasanna is a good and active \n",
            "prasanna good active \n"
          ]
        }
      ]
    }
  ]
}